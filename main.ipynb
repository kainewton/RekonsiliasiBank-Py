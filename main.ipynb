{
 "cells": [
  {
   "cell_type": "code",
   "execution_count": 45,
   "metadata": {},
   "outputs": [],
   "source": [
    "import pandas as pd\n",
    "import matplotlib.pyplot as plt"
   ]
  },
  {
   "cell_type": "code",
   "execution_count": 46,
   "id": "cf736bdf",
   "metadata": {},
   "outputs": [],
   "source": [
    "saldo_perusahaan = 242_850_000\n",
    "saldo_bank = 243_640_500"
   ]
  },
  {
   "cell_type": "code",
   "execution_count": 47,
   "id": "ee49dc4d",
   "metadata": {},
   "outputs": [],
   "source": [
    "penyesuaian_perusahaan = {\n",
    "    \"Bilyet giro\": 6_500_000,\n",
    "    \"Inkaso\": 17_425_000,  # 17.5 jt - 75rb\n",
    "    \"Jasa giro\": 465_500,\n",
    "    \"Cek ditolak bank\": -10_500_000,\n",
    "    \"Biaya administrasi\": -100_000,\n",
    "    \"Koreksi pencatatan\": 2_000_000  # 15.5 jt - 13.5 jt\n",
    "}"
   ]
  },
  {
   "cell_type": "code",
   "execution_count": 48,
   "id": "77b398d3",
   "metadata": {},
   "outputs": [],
   "source": [
    "penyesuaian_bank = {\n",
    "    \"Deposit in transit\": 15_250_000,\n",
    "    \"Kas belum disetorkan ke bank\": 11_750_000,\n",
    "    \"Outstanding checks\": -9_300_000,\n",
    "    \"Koreksi pencatatan\": -2_700_000\n",
    "}"
   ]
  },
  {
   "cell_type": "code",
   "execution_count": 49,
   "id": "58aa7bc3",
   "metadata": {},
   "outputs": [
    {
     "name": "stdout",
     "output_type": "stream",
     "text": [
      "Saldo kas menurut perusahaan: 242850000\n",
      "Saldo kas menurut bank: 243640500\n",
      "\n",
      "Rekonsiliasi:\n",
      "Saldo kas yang benar (dari perusahaan): Rp 258,640,500\n",
      "Saldo kas yang benar (dari bank): Rp 258,640,500\n"
     ]
    }
   ],
   "source": [
    "saldo_benar_perusahaan = saldo_perusahaan + sum (penyesuaian_perusahaan.values())\n",
    "saldo_benar_bank = saldo_bank + sum (penyesuaian_bank.values())\n",
    "\n",
    "print (\"Saldo kas menurut perusahaan:\", saldo_perusahaan)\n",
    "print (\"Saldo kas menurut bank:\", saldo_bank)\n",
    "print (\"\\nRekonsiliasi:\")\n",
    "print (\"Saldo kas yang benar (dari perusahaan): Rp {:,.0f}\".format (saldo_benar_perusahaan))\n",
    "print (\"Saldo kas yang benar (dari bank): Rp {:,.0f}\".format (saldo_benar_bank))\n",
    "\n",
    "assert saldo_benar_perusahaan == saldo_benar_bank, \"Saldo tidak cocok!\"\n"
   ]
  },
  {
   "cell_type": "code",
   "execution_count": 50,
   "id": "3b094a82",
   "metadata": {},
   "outputs": [
    {
     "name": "stdout",
     "output_type": "stream",
     "text": [
      "\n",
      "Penyesuaian menurut perusahaan:\n",
      "\n",
      "Penyesuaian menurut bank:\n"
     ]
    },
    {
     "data": {
      "text/html": [
       "<div>\n",
       "<style scoped>\n",
       "    .dataframe tbody tr th:only-of-type {\n",
       "        vertical-align: middle;\n",
       "    }\n",
       "\n",
       "    .dataframe tbody tr th {\n",
       "        vertical-align: top;\n",
       "    }\n",
       "\n",
       "    .dataframe thead th {\n",
       "        text-align: right;\n",
       "    }\n",
       "</style>\n",
       "<table border=\"1\" class=\"dataframe\">\n",
       "  <thead>\n",
       "    <tr style=\"text-align: right;\">\n",
       "      <th></th>\n",
       "      <th>jumlah (Rp)</th>\n",
       "    </tr>\n",
       "  </thead>\n",
       "  <tbody>\n",
       "    <tr>\n",
       "      <th>Deposit in transit</th>\n",
       "      <td>15250000</td>\n",
       "    </tr>\n",
       "    <tr>\n",
       "      <th>Kas belum disetorkan ke bank</th>\n",
       "      <td>11750000</td>\n",
       "    </tr>\n",
       "    <tr>\n",
       "      <th>Outstanding checks</th>\n",
       "      <td>-9300000</td>\n",
       "    </tr>\n",
       "    <tr>\n",
       "      <th>Koreksi pencatatan</th>\n",
       "      <td>-2700000</td>\n",
       "    </tr>\n",
       "  </tbody>\n",
       "</table>\n",
       "</div>"
      ],
      "text/plain": [
       "                              jumlah (Rp)\n",
       "Deposit in transit               15250000\n",
       "Kas belum disetorkan ke bank     11750000\n",
       "Outstanding checks               -9300000\n",
       "Koreksi pencatatan               -2700000"
      ]
     },
     "execution_count": 50,
     "metadata": {},
     "output_type": "execute_result"
    }
   ],
   "source": [
    "print (\"\\nPenyesuaian menurut perusahaan:\")\n",
    "pd.Series (penyesuaian_perusahaan).to_frame (\"jumlah (Rp)\")\n",
    "\n",
    "print (\"\\nPenyesuaian menurut bank:\")\n",
    "pd.Series (penyesuaian_bank).to_frame (\"jumlah (Rp)\")"
   ]
  },
  {
   "cell_type": "code",
   "execution_count": 51,
   "id": "835791fe",
   "metadata": {},
   "outputs": [],
   "source": [
    "jurnal_data = [\n",
    "    {\"Keterangan\": \"Piutang Dagang (cek ditolak)\", \"Debit\": 10_500_000, \"Kredit\": 0, \"Akun Kredit\": \"Kas\"},\n",
    "    {\"Keterangan\": \"Kas (bilyet giro)\", \"Debit\": 6_500_000, \"Kredit\": 0, \"Akun Kredit\": \"Piutang Dagang\"},\n",
    "    {\"Keterangan\": \"Kas (hasil inkaso)\", \"Debit\": 17_425_000, \"Kredit\": 0, \"Akun Kredit\": \"Piutang Dagang\"},\n",
    "    {\"Keterangan\": \"Biaya Administrasi Bank\", \"Debit\": 100_000, \"Kredit\": 0, \"Akun Kredit\": \"Kas\"},\n",
    "    {\"Keterangan\": \"Kas (jasa giro)\", \"Debit\": 465_500, \"Kredit\": 0, \"Akun Kredit\": \"Pendapatan Giro\"},\n",
    "    {\"Keterangan\": \"Kas (koreksi cek PT INTAN)\", \"Debit\": 2_000_000, \"Kredit\": 0, \"Akun Kredit\": \"Utang Dagang\"},\n",
    "]"
   ]
  },
  {
   "cell_type": "code",
   "execution_count": 52,
   "id": "c185d23a",
   "metadata": {},
   "outputs": [
    {
     "name": "stdout",
     "output_type": "stream",
     "text": [
      "\n",
      " Jurnal Penyesuaian:\n"
     ]
    },
    {
     "data": {
      "text/html": [
       "<div>\n",
       "<style scoped>\n",
       "    .dataframe tbody tr th:only-of-type {\n",
       "        vertical-align: middle;\n",
       "    }\n",
       "\n",
       "    .dataframe tbody tr th {\n",
       "        vertical-align: top;\n",
       "    }\n",
       "\n",
       "    .dataframe thead th {\n",
       "        text-align: right;\n",
       "    }\n",
       "</style>\n",
       "<table border=\"1\" class=\"dataframe\">\n",
       "  <thead>\n",
       "    <tr style=\"text-align: right;\">\n",
       "      <th></th>\n",
       "      <th>Akun Debit</th>\n",
       "      <th>Debit</th>\n",
       "      <th>Akun Kredit</th>\n",
       "      <th>Kredit</th>\n",
       "    </tr>\n",
       "  </thead>\n",
       "  <tbody>\n",
       "    <tr>\n",
       "      <th>0</th>\n",
       "      <td>Piutang Dagang</td>\n",
       "      <td>10500000</td>\n",
       "      <td>Kas</td>\n",
       "      <td>10500000</td>\n",
       "    </tr>\n",
       "    <tr>\n",
       "      <th>1</th>\n",
       "      <td>Kas</td>\n",
       "      <td>6500000</td>\n",
       "      <td>Piutang Dagang</td>\n",
       "      <td>6500000</td>\n",
       "    </tr>\n",
       "    <tr>\n",
       "      <th>2</th>\n",
       "      <td>Kas</td>\n",
       "      <td>17425000</td>\n",
       "      <td>Piutang Dagang</td>\n",
       "      <td>17425000</td>\n",
       "    </tr>\n",
       "    <tr>\n",
       "      <th>3</th>\n",
       "      <td>Biaya Administrasi Bank</td>\n",
       "      <td>100000</td>\n",
       "      <td>Kas</td>\n",
       "      <td>100000</td>\n",
       "    </tr>\n",
       "    <tr>\n",
       "      <th>4</th>\n",
       "      <td>Kas</td>\n",
       "      <td>465500</td>\n",
       "      <td>Pendapatan Giro</td>\n",
       "      <td>465500</td>\n",
       "    </tr>\n",
       "    <tr>\n",
       "      <th>5</th>\n",
       "      <td>Kas</td>\n",
       "      <td>2000000</td>\n",
       "      <td>Utang Dagang</td>\n",
       "      <td>2000000</td>\n",
       "    </tr>\n",
       "  </tbody>\n",
       "</table>\n",
       "</div>"
      ],
      "text/plain": [
       "                Akun Debit     Debit      Akun Kredit    Kredit\n",
       "0           Piutang Dagang  10500000              Kas  10500000\n",
       "1                      Kas   6500000   Piutang Dagang   6500000\n",
       "2                      Kas  17425000   Piutang Dagang  17425000\n",
       "3  Biaya Administrasi Bank    100000              Kas    100000\n",
       "4                      Kas    465500  Pendapatan Giro    465500\n",
       "5                      Kas   2000000     Utang Dagang   2000000"
      ]
     },
     "execution_count": 52,
     "metadata": {},
     "output_type": "execute_result"
    }
   ],
   "source": [
    "jurnal_df = pd.DataFrame (jurnal_data)\n",
    "jurnal_df [\"Kredit\"] = jurnal_df.apply (lambda row: row [\"Debit\"] if row [\"Kredit\"] == 0 else row [\"Kredit\"], axis=1)\n",
    "jurnal_df [\"Akun Debit\"] = jurnal_df [\"Keterangan\"].apply (lambda x: x.split(\" (\")[0])\n",
    "\n",
    "print (\"\\n Jurnal Penyesuaian:\")\n",
    "jurnal_df [[\"Akun Debit\", \"Debit\", \"Akun Kredit\", \"Kredit\"]]"
   ]
  },
  {
   "cell_type": "code",
   "execution_count": 53,
   "id": "67c6f69a",
   "metadata": {},
   "outputs": [],
   "source": [
    "teks = f\"\"\"Rekonsiliasi Bank - PD FORTUNA\n",
    "\n",
    "Saldo kas menurut perusahaan: Rp {saldo_perusahaan:,.0f}\n",
    "Saldo kas menurut bank      : Rp {saldo_bank:,.0f}\n",
    "\n",
    "Penyesuaian:\n",
    "Saldo kas yang benar (dari perusahaan): Rp {saldo_benar_perusahaan:,.0f}\n",
    "Saldo kas yang benar (dari bank)      : Rp {saldo_benar_bank:,.0f}\n",
    "\"\"\""
   ]
  },
  {
   "cell_type": "code",
   "execution_count": 54,
   "id": "26887b75",
   "metadata": {},
   "outputs": [
    {
     "data": {
      "image/png": "[encoded data removed]",
      "text/plain": [
       "<Figure size 1000x500 with 1 Axes>"
      ]
     },
     "metadata": {},
     "output_type": "display_data"
    }
   ],
   "source": [
    "plt.figure (figsize=(10, 5))\n",
    "plt.text (0.01, 0.98, teks, fontsize=12.5, va='top', family='monospace')\n",
    "plt.axis ('off')\n",
    "plt.savefig (\"rekonsiliasibank.png\", bbox_inches='tight', dpi=300)\n",
    "plt.show ()"
   ]
  }
 ],
 "metadata": {
  "kernelspec": {
   "display_name": "Python 3",
   "language": "python",
   "name": "python3"
  },
  "language_info": {
   "codemirror_mode": {
    "name": "ipython",
    "version": 3
   },
   "file_extension": ".py",
   "mimetype": "text/x-python",
   "name": "python",
   "nbconvert_exporter": "python",
   "pygments_lexer": "ipython3",
   "version": "3.13.3"
  }
 },
 "nbformat": 4,
 "nbformat_minor": 5
}
